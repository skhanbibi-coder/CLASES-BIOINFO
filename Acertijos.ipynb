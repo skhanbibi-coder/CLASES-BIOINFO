{
 "cells": [
  {
   "cell_type": "markdown",
   "id": "85ca7941-0707-4c08-9de2-f3ca23ca84f8",
   "metadata": {},
   "source": [
    "# PRIMER CARACTER"
   ]
  },
  {
   "cell_type": "markdown",
   "id": "1afac843-98a8-444c-9489-79d041d2f048",
   "metadata": {},
   "source": [
    "#### De una lista de palabras, cuenta el número de palabras que tengas un número de letras que sea múltiplo de 3."
   ]
  },
  {
   "cell_type": "code",
   "execution_count": 3,
   "id": "8de5847e-2884-4fcd-b19f-e13473a83864",
   "metadata": {},
   "outputs": [],
   "source": [
    "lista_palabras = [\"navidad\", \"otoño\",\"roble\",\"setas\",\"campo\",\"ciervo\",\"nueces\",\"calabazas\",\"perdices\",\"bellotas\",\"frio\",\"hoguera\",\"brujas\",\"ocre\",\"corteza\",\"musgo\"]"
   ]
  },
  {
   "cell_type": "code",
   "execution_count": null,
   "id": "443443f6-78ca-44de-ad63-33abbba13d29",
   "metadata": {},
   "outputs": [],
   "source": [
    "\n",
    "    "
   ]
  },
  {
   "cell_type": "markdown",
   "id": "effc0652-db51-4878-9f26-f68dfb7cc5f3",
   "metadata": {},
   "source": [
    "# SEGUNDO CARACTER"
   ]
  },
  {
   "cell_type": "markdown",
   "id": "e6360f6e-358c-4de8-9c65-2dde8287b33c",
   "metadata": {},
   "source": [
    "#### ¿Cuánto da una ecuación en la que primero se sumen 5 y 7, luego a eso se le hace la raíz cuadrada y posteriormente se eleva al cuadrado? Por último, se divide todo entre 3."
   ]
  },
  {
   "cell_type": "code",
   "execution_count": null,
   "id": "c3cfb1c5-3b50-4e24-a81f-6e3498d9fbe8",
   "metadata": {},
   "outputs": [],
   "source": []
  },
  {
   "cell_type": "markdown",
   "id": "bbd815e3-5937-4569-a0d1-f7e033f545e5",
   "metadata": {},
   "source": [
    "# TERCER CARACTER"
   ]
  },
  {
   "cell_type": "markdown",
   "id": "11f8107c-32e0-4782-83d9-7562486b005e",
   "metadata": {},
   "source": [
    "#### Calcula el área de un círculo de radio 3 y después divídela entre 9."
   ]
  },
  {
   "cell_type": "code",
   "execution_count": 29,
   "id": "09321e69-f27c-4e02-b275-b10008bc3fd7",
   "metadata": {},
   "outputs": [],
   "source": [
    "pi = 3.14\n",
    "radio = 3"
   ]
  },
  {
   "cell_type": "code",
   "execution_count": null,
   "id": "f4fd5b6f-e4be-493e-9f32-23aa9099a0ce",
   "metadata": {},
   "outputs": [],
   "source": []
  },
  {
   "cell_type": "markdown",
   "id": "79620d61-8f0a-4855-908e-010038ac8da9",
   "metadata": {},
   "source": [
    "# CUARTO Y QUINTO CARACTER"
   ]
  },
  {
   "cell_type": "markdown",
   "id": "03e2e81e-5929-44d5-8a39-f2d0a309e3a0",
   "metadata": {},
   "source": [
    "#### Cuenta todas las vocales de esta frase"
   ]
  },
  {
   "cell_type": "code",
   "execution_count": 43,
   "id": "db699057-4bfe-40d6-bd16-c0e1432a9b31",
   "metadata": {},
   "outputs": [],
   "source": [
    "frase = \"Estoy un poco estresada porque se me va a explotar la bomba\""
   ]
  },
  {
   "cell_type": "code",
   "execution_count": null,
   "id": "6237afef-1b52-4a6c-9465-208efbaeece7",
   "metadata": {},
   "outputs": [],
   "source": []
  },
  {
   "cell_type": "markdown",
   "id": "bacf7813-49f2-4ca8-9fcb-9ef2d01bbdba",
   "metadata": {},
   "source": [
    "# SEXTO CARACTER"
   ]
  },
  {
   "cell_type": "markdown",
   "id": "42359da1-a48f-4854-8d4d-d4d262127d9b",
   "metadata": {},
   "source": [
    "#### De la siguiente frase saca la primera letra de la primera palabra que sea un palíndromo."
   ]
  },
  {
   "cell_type": "code",
   "execution_count": 57,
   "id": "c466bf2c-0d25-4e9f-b131-c16fe95e9cdb",
   "metadata": {},
   "outputs": [],
   "source": [
    "frase_palindromo = \"Vaya Parece Que Somos Un Poco Kamikazes Pero Ya Casi Esta\""
   ]
  },
  {
   "cell_type": "code",
   "execution_count": null,
   "id": "00f08b2d-9fa5-492c-9523-d9073e92581c",
   "metadata": {},
   "outputs": [],
   "source": []
  }
 ],
 "metadata": {
  "kernelspec": {
   "display_name": "Python 3 (ipykernel)",
   "language": "python",
   "name": "python3"
  },
  "language_info": {
   "codemirror_mode": {
    "name": "ipython",
    "version": 3
   },
   "file_extension": ".py",
   "mimetype": "text/x-python",
   "name": "python",
   "nbconvert_exporter": "python",
   "pygments_lexer": "ipython3",
   "version": "3.12.7"
  }
 },
 "nbformat": 4,
 "nbformat_minor": 5
}
